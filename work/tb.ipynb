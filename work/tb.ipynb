{
 "cells": [
  {
   "cell_type": "code",
   "execution_count": null,
   "id": "ee65c542-36c9-4e14-97f2-620f61a70a14",
   "metadata": {
    "scrolled": true
   },
   "outputs": [],
   "source": [
    "!pip install tensorboardX tensorboard"
   ]
  },
  {
   "cell_type": "code",
   "execution_count": null,
   "id": "b4899e1b-3db3-4918-808c-4549e46c743d",
   "metadata": {},
   "outputs": [],
   "source": [
    "%load_ext tensorboard"
   ]
  },
  {
   "cell_type": "code",
   "execution_count": null,
   "id": "b3cf987b-0734-4dae-b9c8-b308b53234ec",
   "metadata": {},
   "outputs": [],
   "source": [
    "%tensorboard --logdir /home/jovyan/models/8_ruT5-base/runs --host 0.0.0.0 --port 8007"
   ]
  },
  {
   "cell_type": "markdown",
   "id": "c4a206b3-d761-4151-82ab-815172165026",
   "metadata": {},
   "source": [
    "In order to delete stuck and unaccessable tensorboard instances which hold ports one is possible to observe not only the corresponding list via API call but containment of its folder as well so that extra instances info could be removed manually. "
   ]
  },
  {
   "cell_type": "code",
   "execution_count": null,
   "id": "f13097f2-3110-4e6c-9da3-4e07a57c94e4",
   "metadata": {},
   "outputs": [],
   "source": [
    "from tensorboard import notebook\n",
    "notebook.list()"
   ]
  },
  {
   "cell_type": "code",
   "execution_count": null,
   "id": "7d294816-cfbb-4a7d-8e95-226b4bcfab74",
   "metadata": {},
   "outputs": [],
   "source": [
    "!ls /tmp/.tensorboard-info"
   ]
  },
  {
   "cell_type": "code",
   "execution_count": null,
   "id": "8c8e3ba8-5ee2-4557-92fd-ed173fcfe51a",
   "metadata": {},
   "outputs": [],
   "source": [
    "!rm /tmp/.tensorboard-info/pid-243.info"
   ]
  }
 ],
 "metadata": {
  "kernelspec": {
   "display_name": "Python 3 (ipykernel)",
   "language": "python",
   "name": "python3"
  },
  "language_info": {
   "codemirror_mode": {
    "name": "ipython",
    "version": 3
   },
   "file_extension": ".py",
   "mimetype": "text/x-python",
   "name": "python",
   "nbconvert_exporter": "python",
   "pygments_lexer": "ipython3",
   "version": "3.10.13"
  }
 },
 "nbformat": 4,
 "nbformat_minor": 5
}
