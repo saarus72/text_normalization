{
 "cells": [
  {
   "cell_type": "markdown",
   "id": "50936b71-42e6-4283-91a9-d91c4c3952cd",
   "metadata": {},
   "source": [
    "This notebook is to construct `Replaces` objects out of text pairs we have saved before.\n",
    "\n",
    "Not much comments here so one is necessary to look into `../replaces.py` file (bad idea probably)."
   ]
  },
  {
   "cell_type": "code",
   "execution_count": null,
   "id": "c2f8da5f-da5f-4e3d-93aa-b101478eb266",
   "metadata": {},
   "outputs": [],
   "source": [
    "PATHES = {\n",
    "    \"librusec\": {\n",
    "        \"input\": \"/home/jovyan/data/librusec_pairs.jsonl\",\n",
    "        \"output\": \"/home/jovyan/data/librusec_replaces.jsonl\",\n",
    "    },\n",
    "    \"ficbook\": {\n",
    "        \"input\": \"/home/jovyan/data/ficbook_pairs.jsonl\",\n",
    "        \"output\": \"/home/jovyan/data/ficbook_replaces.jsonl\",\n",
    "    },\n",
    "    \"pikabu\": {\n",
    "        \"input\": \"/home/jovyan/data/pikabu_pairs.jsonl\",\n",
    "        \"output\": \"/home/jovyan/data/pikabu_replaces.jsonl\",\n",
    "    },\n",
    "}"
   ]
  },
  {
   "cell_type": "markdown",
   "id": "9481d1b5-47c1-4c80-8fd6-8cdceb1c8ad0",
   "metadata": {},
   "source": [
    "I use `Replaces` class as list of changes have been made upon the text."
   ]
  },
  {
   "cell_type": "code",
   "execution_count": null,
   "id": "747c82a0-96eb-44d7-b1b6-4e5a11573d7f",
   "metadata": {},
   "outputs": [],
   "source": [
    "import os\n",
    "import sys\n",
    "sys.path.append(os.path.join(os.path.dirname(os.getcwd())))"
   ]
  },
  {
   "cell_type": "code",
   "execution_count": null,
   "id": "b43cb93b-762d-4af0-b856-ab9a8e37b92b",
   "metadata": {},
   "outputs": [],
   "source": [
    "from replaces import Replace, Replaces\n",
    "\n",
    "\n",
    "Replaces.from_sequences(\n",
    "    \"мама мыла раму с мылом\".split(),\n",
    "    \"мама раму уронила\".split(),\n",
    "    False\n",
    ")"
   ]
  },
  {
   "cell_type": "markdown",
   "id": "535f86e4-a87c-457d-8912-738491ad796a",
   "metadata": {},
   "source": [
    "One is possible to construct Replaces object out from list of dicts so some kind of serialization could be done easily here"
   ]
  },
  {
   "cell_type": "code",
   "execution_count": null,
   "id": "f347a04c-e5e0-4cd0-88c0-eb2ece0397be",
   "metadata": {},
   "outputs": [],
   "source": [
    "Replaces([{\"text_from\": \"a\", \"text_to\": \"a\"}, {\"text_from\": \"b\", \"text_to\": \"c\"}])"
   ]
  },
  {
   "cell_type": "code",
   "execution_count": null,
   "id": "77985a6e-9c9e-46a6-bc61-6627b6a2ab55",
   "metadata": {},
   "outputs": [],
   "source": [
    "DATASET = \"librusec\"\n",
    "# DATASET = \"ficbook\"\n",
    "# DATASET = \"pikabu\""
   ]
  },
  {
   "cell_type": "code",
   "execution_count": null,
   "id": "1922bed2-3ed7-4cf8-962f-044d53471e95",
   "metadata": {},
   "outputs": [],
   "source": [
    "import json\n",
    "from tqdm.auto import tqdm\n",
    "\n",
    "\n",
    "with open(PATHES[DATASET][\"input\"]) as f:\n",
    "    data = [json.loads(line) for line in tqdm(f)]"
   ]
  },
  {
   "cell_type": "code",
   "execution_count": null,
   "id": "8dbec4b1-df30-4d35-b0b9-941cd80da2e7",
   "metadata": {},
   "outputs": [],
   "source": [
    "import re\n",
    "\n",
    "\n",
    "re_tokens = re.compile(r\"[а-яА-ЯёЁ]+\\s*|[a-zA-Z]+\\s*|\\d+(?:\\.\\d+)?\\s*|[^а-яА-ЯёЁa-zA-Z\\d\\s]+\\s*\")\n",
    "\n",
    "\n",
    "def tokenize(text):\n",
    "    return re.findall(re_tokens, text)\n",
    "\n",
    "\n",
    "\"|\".join(tokenize(\"ты, да я, да мы c тобой - вместе 2.5°C. C'est la vie! iPhone 10C pro15 f2f.\"))"
   ]
  },
  {
   "cell_type": "code",
   "execution_count": null,
   "id": "87d69de0-1adb-4847-ba39-8a75fc0a99fb",
   "metadata": {},
   "outputs": [],
   "source": [
    "for elem in tqdm(data):\n",
    "    if \"replaces\" not in elem:\n",
    "        elem[\"replaces\"] = Replaces.from_sequences(tokenize(elem[\"itn\"]), tokenize(elem[\"tn\"]))\n",
    "        for r1, r2 in zip(elem[\"replaces\"], elem[\"replaces\"][1:]):\n",
    "            if r1.type != \"E\" and r1.text_from.endswith(\" \") and r1.text_to.endswith(\" \"):\n",
    "                r1.text_from = r1.text_from[:-1]\n",
    "                r1.text_to = r1.text_to[:-1]\n",
    "                r2.text_from = \" \" + r2.text_from\n",
    "                r2.text_to = \" \" + r2.text_to\n",
    "data[0]"
   ]
  },
  {
   "cell_type": "code",
   "execution_count": null,
   "id": "b5de8bfe-dcae-4d29-9e97-0f128c7c5fff",
   "metadata": {},
   "outputs": [],
   "source": [
    "for i, elem in enumerate(data[:10]):\n",
    "    print(f'{i}\\n{elem[\"replaces\"]}\\n')"
   ]
  },
  {
   "cell_type": "code",
   "execution_count": null,
   "id": "175ab729-3fea-42c3-9f96-7f05672e5c63",
   "metadata": {},
   "outputs": [],
   "source": [
    "import json\n",
    "\n",
    "\n",
    "with open(PATHES[DATASET][\"output\"], \"w\") as f:\n",
    "    for elem in tqdm(data):\n",
    "        json.dump({\"replaces\": elem[\"replaces\"]}, f, ensure_ascii=False)\n",
    "        f.write(\"\\n\")"
   ]
  },
  {
   "cell_type": "code",
   "execution_count": null,
   "id": "d8d658ba-988e-4a7c-8496-b9fbdb2aca8e",
   "metadata": {},
   "outputs": [],
   "source": [
    "data[1]"
   ]
  }
 ],
 "metadata": {
  "kernelspec": {
   "display_name": "Python 3 (ipykernel)",
   "language": "python",
   "name": "python3"
  },
  "language_info": {
   "codemirror_mode": {
    "name": "ipython",
    "version": 3
   },
   "file_extension": ".py",
   "mimetype": "text/x-python",
   "name": "python",
   "nbconvert_exporter": "python",
   "pygments_lexer": "ipython3",
   "version": "3.10.13"
  }
 },
 "nbformat": 4,
 "nbformat_minor": 5
}
