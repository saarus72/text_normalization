{
 "cells": [
  {
   "cell_type": "markdown",
   "id": "163f62b8-7ac3-41f5-82f1-7a5c9aff67df",
   "metadata": {},
   "source": [
    "Now we need to perform an inverse text normalization to obtain examples to train an LLM on."
   ]
  },
  {
   "cell_type": "code",
   "execution_count": null,
   "id": "4608e1d2-a7d7-4731-9336-2ec6cf7988d7",
   "metadata": {},
   "outputs": [],
   "source": [
    "import json\n",
    "from tqdm.notebook import tqdm\n",
    "import random"
   ]
  },
  {
   "cell_type": "code",
   "execution_count": null,
   "id": "a16fcf55-dfda-4608-ad85-53d40b3ec413",
   "metadata": {},
   "outputs": [],
   "source": [
    "from collections import defaultdict, Counter"
   ]
  },
  {
   "cell_type": "code",
   "execution_count": null,
   "id": "34c439b2-24ea-4084-adab-ab14e43601eb",
   "metadata": {},
   "outputs": [],
   "source": [
    "# INPUT_PATH = \"librusec.jsonl\"\n",
    "# OUTPUT_PATH = \"librusec_pairs.jsonl\"\n",
    "\n",
    "INPUT_PATH = \"pikabu.jsonl\"\n",
    "OUTPUT_PATH = \"pikabu_pairs.jsonl\""
   ]
  },
  {
   "cell_type": "code",
   "execution_count": null,
   "id": "b528e32c-999a-4fb3-8abc-64bc663bb1f6",
   "metadata": {
    "scrolled": true
   },
   "outputs": [],
   "source": [
    "data = []\n",
    "with open(INPUT_PATH) as f:\n",
    "    for line in tqdm(f):\n",
    "        data.append(json.loads(line.strip()))\n",
    "random.choice(data)"
   ]
  },
  {
   "cell_type": "markdown",
   "id": "fd154913-097f-4432-a480-85d0d065d664",
   "metadata": {
    "collapsed": true,
    "jupyter": {
     "outputs_hidden": true
    }
   },
   "source": [
    "I end up using `nemo_text_processing` as it is fast.\n",
    "This part is vital so better use another one here next time.\n",
    "\n",
    "Seems ok for a first attempt anyway."
   ]
  },
  {
   "cell_type": "code",
   "execution_count": null,
   "id": "520b9522-e296-49e7-90b2-8ec56856f427",
   "metadata": {},
   "outputs": [],
   "source": [
    "from nemo_text_processing.inverse_text_normalization.inverse_normalize import InverseNormalizer\n",
    "inverse_normalizer = InverseNormalizer(lang='ru')"
   ]
  },
  {
   "cell_type": "markdown",
   "id": "03efe745-e7fb-40f0-8d50-0a7fb50fc8f0",
   "metadata": {},
   "source": [
    "Make some balancing here.\n",
    "First, perform a rough distribution check."
   ]
  },
  {
   "cell_type": "code",
   "execution_count": null,
   "id": "bbda9606-a856-4681-872f-07c6fd869113",
   "metadata": {
    "scrolled": true
   },
   "outputs": [],
   "source": [
    "counter = Counter()\n",
    "for elem in tqdm(data):\n",
    "    for text in elem[\"texts\"]:\n",
    "        for match in text[\"matches\"]:\n",
    "            counter[match[\"number\"]] += 1\n",
    "sum(counter.values()), counter"
   ]
  },
  {
   "cell_type": "markdown",
   "id": "b4ceca62-9db6-43d3-b60a-5d1176195597",
   "metadata": {},
   "source": [
    "Seems too much of numbers less than 10.\n",
    "So we strip a part of the most common numbers."
   ]
  },
  {
   "cell_type": "code",
   "execution_count": null,
   "id": "00d930e4-1b29-41e0-8942-15faeb52c54b",
   "metadata": {
    "scrolled": true
   },
   "outputs": [],
   "source": [
    "from multiprocessing import Process, Queue\n",
    "from multiprocessing import Pool\n",
    "\n",
    "\n",
    "queue = Queue()\n",
    "occurances = Counter()\n",
    "occurances_limit = sum(counter.values()) / 25\n",
    "print(f\"{occurances_limit=}\")\n",
    "\n",
    "\n",
    "def inverse_normalize(elem):\n",
    "    result = []\n",
    "    for i_text, text in enumerate(elem[\"texts\"]):\n",
    "        matches = [match for match in text[\"matches\"] if occurances[match[\"number\"]] < occurances_limit]\n",
    "        if not matches:\n",
    "            continue\n",
    "        occurances.update((_[\"number\"] for _ in matches))\n",
    "        itn = inverse_normalizer.inverse_normalize(text[\"text\"], verbose=False)\n",
    "        if itn == text[\"text\"]:\n",
    "            continue\n",
    "        result.append({\n",
    "            \"tn\": text[\"text\"],\n",
    "            \"itn\": itn,\n",
    "            \"orig_index\": elem[\"index\"],\n",
    "            \"text_index\": i_text\n",
    "        })\n",
    "    return result\n",
    "\n",
    "\n",
    "def process(elem):\n",
    "    for result in inverse_normalize(elem):\n",
    "        queue.put(result)\n",
    "\n",
    "\n",
    "def write(queue):\n",
    "    f = open(OUTPUT_PATH, \"w\")\n",
    "    while True:\n",
    "        item = queue.get()\n",
    "        if item is None:\n",
    "            return\n",
    "        json.dump(item, f, ensure_ascii=False)\n",
    "        f.write(\"\\n\")\n",
    "    f.close()\n",
    "\n",
    "\n",
    "writer = Process(target=write, args=(queue,))\n",
    "writer.start()\n",
    "with Pool(10) as p:\n",
    "    p.map(process, tqdm(data))\n",
    "    queue.put(None)\n",
    "p.join()\n",
    "writer.join()"
   ]
  }
 ],
 "metadata": {
  "kernelspec": {
   "display_name": "Python 3 (ipykernel)",
   "language": "python",
   "name": "python3"
  },
  "language_info": {
   "codemirror_mode": {
    "name": "ipython",
    "version": 3
   },
   "file_extension": ".py",
   "mimetype": "text/x-python",
   "name": "python",
   "nbconvert_exporter": "python",
   "pygments_lexer": "ipython3",
   "version": "3.10.13"
  }
 },
 "nbformat": 4,
 "nbformat_minor": 5
}
